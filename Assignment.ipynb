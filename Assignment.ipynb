{
 "cells": [
  {
   "cell_type": "code",
   "execution_count": 1,
   "metadata": {},
   "outputs": [],
   "source": [
    "import pandas as pd\n",
    "import sqlite3\n",
    "sqlite_db = 'database.sqlite'\n",
    "conn = sqlite3.connect(sqlite_db)\n",
    "c = conn.cursor()"
   ]
  },
  {
   "cell_type": "code",
   "execution_count": 2,
   "metadata": {},
   "outputs": [],
   "source": [
    "from sqlalchemy import create_engine\n",
    "engine = create_engine('sqlite://', echo=False)"
   ]
  },
  {
   "cell_type": "code",
   "execution_count": 3,
   "metadata": {
    "scrolled": true
   },
   "outputs": [
    {
     "name": "stderr",
     "output_type": "stream",
     "text": [
      "/Users/polbrigneti/anaconda2/lib/python2.7/site-packages/IPython/core/interactiveshell.py:2718: DtypeWarning: Columns (19,55) have mixed types. Specify dtype option on import or set low_memory=False.\n",
      "  interactivity=interactivity, compiler=compiler, result=result)\n"
     ]
    },
    {
     "data": {
      "text/html": [
       "<div>\n",
       "<style scoped>\n",
       "    .dataframe tbody tr th:only-of-type {\n",
       "        vertical-align: middle;\n",
       "    }\n",
       "\n",
       "    .dataframe tbody tr th {\n",
       "        vertical-align: top;\n",
       "    }\n",
       "\n",
       "    .dataframe thead th {\n",
       "        text-align: right;\n",
       "    }\n",
       "</style>\n",
       "<table border=\"1\" class=\"dataframe\">\n",
       "  <thead>\n",
       "    <tr style=\"text-align: right;\">\n",
       "      <th></th>\n",
       "      <th>id</th>\n",
       "      <th>member_id</th>\n",
       "      <th>loan_amnt</th>\n",
       "      <th>funded_amnt</th>\n",
       "      <th>funded_amnt_inv</th>\n",
       "      <th>term</th>\n",
       "      <th>int_rate</th>\n",
       "      <th>installment</th>\n",
       "      <th>grade</th>\n",
       "      <th>sub_grade</th>\n",
       "      <th>...</th>\n",
       "      <th>total_bal_il</th>\n",
       "      <th>il_util</th>\n",
       "      <th>open_rv_12m</th>\n",
       "      <th>open_rv_24m</th>\n",
       "      <th>max_bal_bc</th>\n",
       "      <th>all_util</th>\n",
       "      <th>total_rev_hi_lim</th>\n",
       "      <th>inq_fi</th>\n",
       "      <th>total_cu_tl</th>\n",
       "      <th>inq_last_12m</th>\n",
       "    </tr>\n",
       "  </thead>\n",
       "  <tbody>\n",
       "    <tr>\n",
       "      <th>0</th>\n",
       "      <td>1077501</td>\n",
       "      <td>1296599</td>\n",
       "      <td>5000.0</td>\n",
       "      <td>5000.0</td>\n",
       "      <td>4975.0</td>\n",
       "      <td>36 months</td>\n",
       "      <td>10.65</td>\n",
       "      <td>162.87</td>\n",
       "      <td>B</td>\n",
       "      <td>B2</td>\n",
       "      <td>...</td>\n",
       "      <td>NaN</td>\n",
       "      <td>NaN</td>\n",
       "      <td>NaN</td>\n",
       "      <td>NaN</td>\n",
       "      <td>NaN</td>\n",
       "      <td>NaN</td>\n",
       "      <td>NaN</td>\n",
       "      <td>NaN</td>\n",
       "      <td>NaN</td>\n",
       "      <td>NaN</td>\n",
       "    </tr>\n",
       "    <tr>\n",
       "      <th>1</th>\n",
       "      <td>1077430</td>\n",
       "      <td>1314167</td>\n",
       "      <td>2500.0</td>\n",
       "      <td>2500.0</td>\n",
       "      <td>2500.0</td>\n",
       "      <td>60 months</td>\n",
       "      <td>15.27</td>\n",
       "      <td>59.83</td>\n",
       "      <td>C</td>\n",
       "      <td>C4</td>\n",
       "      <td>...</td>\n",
       "      <td>NaN</td>\n",
       "      <td>NaN</td>\n",
       "      <td>NaN</td>\n",
       "      <td>NaN</td>\n",
       "      <td>NaN</td>\n",
       "      <td>NaN</td>\n",
       "      <td>NaN</td>\n",
       "      <td>NaN</td>\n",
       "      <td>NaN</td>\n",
       "      <td>NaN</td>\n",
       "    </tr>\n",
       "    <tr>\n",
       "      <th>2</th>\n",
       "      <td>1077175</td>\n",
       "      <td>1313524</td>\n",
       "      <td>2400.0</td>\n",
       "      <td>2400.0</td>\n",
       "      <td>2400.0</td>\n",
       "      <td>36 months</td>\n",
       "      <td>15.96</td>\n",
       "      <td>84.33</td>\n",
       "      <td>C</td>\n",
       "      <td>C5</td>\n",
       "      <td>...</td>\n",
       "      <td>NaN</td>\n",
       "      <td>NaN</td>\n",
       "      <td>NaN</td>\n",
       "      <td>NaN</td>\n",
       "      <td>NaN</td>\n",
       "      <td>NaN</td>\n",
       "      <td>NaN</td>\n",
       "      <td>NaN</td>\n",
       "      <td>NaN</td>\n",
       "      <td>NaN</td>\n",
       "    </tr>\n",
       "    <tr>\n",
       "      <th>3</th>\n",
       "      <td>1076863</td>\n",
       "      <td>1277178</td>\n",
       "      <td>10000.0</td>\n",
       "      <td>10000.0</td>\n",
       "      <td>10000.0</td>\n",
       "      <td>36 months</td>\n",
       "      <td>13.49</td>\n",
       "      <td>339.31</td>\n",
       "      <td>C</td>\n",
       "      <td>C1</td>\n",
       "      <td>...</td>\n",
       "      <td>NaN</td>\n",
       "      <td>NaN</td>\n",
       "      <td>NaN</td>\n",
       "      <td>NaN</td>\n",
       "      <td>NaN</td>\n",
       "      <td>NaN</td>\n",
       "      <td>NaN</td>\n",
       "      <td>NaN</td>\n",
       "      <td>NaN</td>\n",
       "      <td>NaN</td>\n",
       "    </tr>\n",
       "    <tr>\n",
       "      <th>4</th>\n",
       "      <td>1075358</td>\n",
       "      <td>1311748</td>\n",
       "      <td>3000.0</td>\n",
       "      <td>3000.0</td>\n",
       "      <td>3000.0</td>\n",
       "      <td>60 months</td>\n",
       "      <td>12.69</td>\n",
       "      <td>67.79</td>\n",
       "      <td>B</td>\n",
       "      <td>B5</td>\n",
       "      <td>...</td>\n",
       "      <td>NaN</td>\n",
       "      <td>NaN</td>\n",
       "      <td>NaN</td>\n",
       "      <td>NaN</td>\n",
       "      <td>NaN</td>\n",
       "      <td>NaN</td>\n",
       "      <td>NaN</td>\n",
       "      <td>NaN</td>\n",
       "      <td>NaN</td>\n",
       "      <td>NaN</td>\n",
       "    </tr>\n",
       "  </tbody>\n",
       "</table>\n",
       "<p>5 rows × 74 columns</p>\n",
       "</div>"
      ],
      "text/plain": [
       "        id  member_id  loan_amnt  funded_amnt  funded_amnt_inv        term  \\\n",
       "0  1077501    1296599     5000.0       5000.0           4975.0   36 months   \n",
       "1  1077430    1314167     2500.0       2500.0           2500.0   60 months   \n",
       "2  1077175    1313524     2400.0       2400.0           2400.0   36 months   \n",
       "3  1076863    1277178    10000.0      10000.0          10000.0   36 months   \n",
       "4  1075358    1311748     3000.0       3000.0           3000.0   60 months   \n",
       "\n",
       "   int_rate  installment grade sub_grade     ...      total_bal_il il_util  \\\n",
       "0     10.65       162.87     B        B2     ...               NaN     NaN   \n",
       "1     15.27        59.83     C        C4     ...               NaN     NaN   \n",
       "2     15.96        84.33     C        C5     ...               NaN     NaN   \n",
       "3     13.49       339.31     C        C1     ...               NaN     NaN   \n",
       "4     12.69        67.79     B        B5     ...               NaN     NaN   \n",
       "\n",
       "  open_rv_12m  open_rv_24m max_bal_bc all_util total_rev_hi_lim inq_fi  \\\n",
       "0         NaN          NaN        NaN      NaN              NaN    NaN   \n",
       "1         NaN          NaN        NaN      NaN              NaN    NaN   \n",
       "2         NaN          NaN        NaN      NaN              NaN    NaN   \n",
       "3         NaN          NaN        NaN      NaN              NaN    NaN   \n",
       "4         NaN          NaN        NaN      NaN              NaN    NaN   \n",
       "\n",
       "  total_cu_tl inq_last_12m  \n",
       "0         NaN          NaN  \n",
       "1         NaN          NaN  \n",
       "2         NaN          NaN  \n",
       "3         NaN          NaN  \n",
       "4         NaN          NaN  \n",
       "\n",
       "[5 rows x 74 columns]"
      ]
     },
     "execution_count": 3,
     "metadata": {},
     "output_type": "execute_result"
    }
   ],
   "source": [
    "loans = pd.read_csv('loan.csv')\n",
    "loans.head()"
   ]
  },
  {
   "cell_type": "code",
   "execution_count": 5,
   "metadata": {},
   "outputs": [
    {
     "data": {
      "text/plain": [
       "Index([u'id', u'member_id', u'loan_amnt', u'funded_amnt', u'funded_amnt_inv',\n",
       "       u'term', u'int_rate', u'installment', u'grade', u'sub_grade',\n",
       "       u'emp_title', u'emp_length', u'home_ownership', u'annual_inc',\n",
       "       u'verification_status', u'issue_d', u'loan_status', u'pymnt_plan',\n",
       "       u'url', u'desc', u'purpose', u'title', u'zip_code', u'addr_state',\n",
       "       u'dti', u'delinq_2yrs', u'earliest_cr_line', u'inq_last_6mths',\n",
       "       u'mths_since_last_delinq', u'mths_since_last_record', u'open_acc',\n",
       "       u'pub_rec', u'revol_bal', u'revol_util', u'total_acc',\n",
       "       u'initial_list_status', u'out_prncp', u'out_prncp_inv', u'total_pymnt',\n",
       "       u'total_pymnt_inv', u'total_rec_prncp', u'total_rec_int',\n",
       "       u'total_rec_late_fee', u'recoveries', u'collection_recovery_fee',\n",
       "       u'last_pymnt_d', u'last_pymnt_amnt', u'next_pymnt_d',\n",
       "       u'last_credit_pull_d', u'collections_12_mths_ex_med',\n",
       "       u'mths_since_last_major_derog', u'policy_code', u'application_type',\n",
       "       u'annual_inc_joint', u'dti_joint', u'verification_status_joint',\n",
       "       u'acc_now_delinq', u'tot_coll_amt', u'tot_cur_bal', u'open_acc_6m',\n",
       "       u'open_il_6m', u'open_il_12m', u'open_il_24m', u'mths_since_rcnt_il',\n",
       "       u'total_bal_il', u'il_util', u'open_rv_12m', u'open_rv_24m',\n",
       "       u'max_bal_bc', u'all_util', u'total_rev_hi_lim', u'inq_fi',\n",
       "       u'total_cu_tl', u'inq_last_12m'],\n",
       "      dtype='object')"
      ]
     },
     "execution_count": 5,
     "metadata": {},
     "output_type": "execute_result"
    }
   ],
   "source": [
    "loans.columns"
   ]
  },
  {
   "cell_type": "code",
   "execution_count": 6,
   "metadata": {},
   "outputs": [],
   "source": [
    "# Extracting month, year and loan_term\n",
    "loans['month'] = loans.issue_d.apply(lambda x: x[:3])\n",
    "loans['year'] = loans.issue_d.apply(lambda x: x[4:])\n",
    "loans['loan_term'] = loans.term.apply(lambda x: x[:3])\n",
    "loans.loan_term = loans.loan_term.astype('int64')"
   ]
  },
  {
   "cell_type": "code",
   "execution_count": null,
   "metadata": {},
   "outputs": [],
   "source": [
    "# Calculating duration of the loans\n",
    "loans['length_years'] = loans.loan_term/12\n",
    "loans.year = loans.year.astype(int)\n",
    "# Calculating end date for each loan\n",
    "loans['end_d'] = loans.year + loans.length_years\n",
    "loans['end_date'] = loans.month +\"-\"+loans.end_d.map(str)"
   ]
  },
  {
   "cell_type": "code",
   "execution_count": 8,
   "metadata": {},
   "outputs": [],
   "source": [
    "# Function to extract the month number\n",
    "def month_num(input_str):\n",
    "    if input_str == 'Jan':\n",
    "        return '01'\n",
    "    elif input_str == 'Feb':\n",
    "        return '02'\n",
    "    elif input_str == 'Mar':\n",
    "        return '03'\n",
    "    elif input_str == 'Apr':\n",
    "        return '04'\n",
    "    elif input_str == 'May':\n",
    "        return '05'\n",
    "    elif input_str == 'Jun':\n",
    "        return '06'\n",
    "    elif input_str == 'Jul':\n",
    "        return '07'\n",
    "    elif input_str == 'Aug':\n",
    "        return '08'\n",
    "    elif input_str == 'Sep':\n",
    "        return '09'\n",
    "    elif input_str == 'Oct':\n",
    "        return '10'\n",
    "    elif input_str == 'Nov':\n",
    "        return '11'\n",
    "    elif input_str == 'Dec':\n",
    "        return '12'"
   ]
  },
  {
   "cell_type": "code",
   "execution_count": 9,
   "metadata": {},
   "outputs": [],
   "source": [
    "# Function to get the quarter\n",
    "def quarter_num(input_str):\n",
    "    if input_str == 'Jan':\n",
    "        return 'Q1'\n",
    "    elif input_str == 'Feb':\n",
    "        return 'Q1'\n",
    "    elif input_str == 'Mar':\n",
    "        return 'Q1'\n",
    "    elif input_str == 'Apr':\n",
    "        return 'Q2'\n",
    "    elif input_str == 'May':\n",
    "        return 'Q2'\n",
    "    elif input_str == 'Jun':\n",
    "        return 'Q2'\n",
    "    elif input_str == 'Jul':\n",
    "        return 'Q3'\n",
    "    elif input_str == 'Aug':\n",
    "        return 'Q3'\n",
    "    elif input_str == 'Sep':\n",
    "        return 'Q3'\n",
    "    elif input_str == 'Oct':\n",
    "        return 'Q4'\n",
    "    elif input_str == 'Nov':\n",
    "        return 'Q4'\n",
    "    elif input_str == 'Dec':\n",
    "        return 'Q4'"
   ]
  },
  {
   "cell_type": "code",
   "execution_count": 10,
   "metadata": {},
   "outputs": [],
   "source": [
    "# Adding columns with month number and quarter\n",
    "loans['month_num'] = loans.month.apply(lambda x: month_num(x))\n",
    "loans['quarter'] = loans.month.apply(lambda x: quarter_num(x))"
   ]
  },
  {
   "cell_type": "code",
   "execution_count": 11,
   "metadata": {},
   "outputs": [],
   "source": [
    "# Calculating loans revenue and gmv\n",
    "loans['loan_gmv'] = loans.loan_term * loans.installment\n",
    "loans['loan_revenue'] = loans.loan_gmv - loans.loan_amnt"
   ]
  },
  {
   "cell_type": "code",
   "execution_count": 57,
   "metadata": {},
   "outputs": [],
   "source": [
    "loans_db = loans[['id','member_id','loan_amnt','loan_term','funded_amnt','funded_amnt_inv','grade', 'purpose','sub_grade','addr_state','int_rate','issue_d','installment','end_d','month','term','year','loan_status','month_num','quarter','loan_revenue','loan_gmv','total_pymnt']]\n",
    "loans_db.to_sql('loans_data', con=engine)"
   ]
  },
  {
   "cell_type": "code",
   "execution_count": 43,
   "metadata": {},
   "outputs": [
    {
     "data": {
      "text/plain": [
       "36    621125\n",
       "60    266254\n",
       "Name: loan_term, dtype: int64"
      ]
     },
     "execution_count": 43,
     "metadata": {},
     "output_type": "execute_result"
    }
   ],
   "source": [
    "loans.loan_term.value_counts()"
   ]
  },
  {
   "cell_type": "markdown",
   "metadata": {},
   "source": [
    "### Distribution of the loans"
   ]
  },
  {
   "cell_type": "code",
   "execution_count": 46,
   "metadata": {},
   "outputs": [
    {
     "data": {
      "text/html": [
       "<div>\n",
       "<style scoped>\n",
       "    .dataframe tbody tr th:only-of-type {\n",
       "        vertical-align: middle;\n",
       "    }\n",
       "\n",
       "    .dataframe tbody tr th {\n",
       "        vertical-align: top;\n",
       "    }\n",
       "\n",
       "    .dataframe thead th {\n",
       "        text-align: right;\n",
       "    }\n",
       "</style>\n",
       "<table border=\"1\" class=\"dataframe\">\n",
       "  <thead>\n",
       "    <tr style=\"text-align: right;\">\n",
       "      <th></th>\n",
       "      <th>&lt;=2500</th>\n",
       "      <th>2501-5000</th>\n",
       "      <th>5001-7500</th>\n",
       "      <th>7501-10000</th>\n",
       "      <th>10001-12500</th>\n",
       "      <th>12501-15000</th>\n",
       "      <th>15001-17500</th>\n",
       "      <th>17501-20000</th>\n",
       "      <th>20001-22500</th>\n",
       "      <th>22501-25000</th>\n",
       "      <th>25001-27500</th>\n",
       "      <th>27501-30000</th>\n",
       "      <th>30001-32500</th>\n",
       "      <th>&gt;32501</th>\n",
       "    </tr>\n",
       "  </thead>\n",
       "  <tbody>\n",
       "    <tr>\n",
       "      <th>0</th>\n",
       "      <td>377</td>\n",
       "      <td>1659</td>\n",
       "      <td>1561</td>\n",
       "      <td>13167</td>\n",
       "      <td>33089</td>\n",
       "      <td>36778</td>\n",
       "      <td>25189</td>\n",
       "      <td>43308</td>\n",
       "      <td>18878</td>\n",
       "      <td>33637</td>\n",
       "      <td>8270</td>\n",
       "      <td>22165</td>\n",
       "      <td>4890</td>\n",
       "      <td>23286</td>\n",
       "    </tr>\n",
       "  </tbody>\n",
       "</table>\n",
       "</div>"
      ],
      "text/plain": [
       "   <=2500  2501-5000  5001-7500  7501-10000  10001-12500  12501-15000  \\\n",
       "0     377       1659       1561       13167        33089        36778   \n",
       "\n",
       "   15001-17500  17501-20000  20001-22500  22501-25000  25001-27500  \\\n",
       "0        25189        43308        18878        33637         8270   \n",
       "\n",
       "   27501-30000  30001-32500  >32501  \n",
       "0        22165         4890   23286  "
      ]
     },
     "execution_count": 46,
     "metadata": {},
     "output_type": "execute_result"
    }
   ],
   "source": [
    "loan_distribution = engine.execute(\"\"\"\n",
    "                                    SELECT\n",
    "                                        SUM(CASE WHEN loan_amnt <= \"2500\" THEN 1 ELSE 0 END) AS SIZE1,\n",
    "                                        SUM(CASE WHEN loan_amnt BETWEEN \"2501\" AND \"5000\" then 1 ELSE 0 END) AS SIZE2,\n",
    "                                        SUM(CASE WHEN loan_amnt BETWEEN \"5001\" AND \"7500\" then 1 ELSE 0 END) AS SIZE3,\n",
    "                                        SUM(CASE WHEN loan_amnt BETWEEN \"7501\" AND \"10000\" then 1 ELSE 0 END) AS SIZE2,\n",
    "                                        SUM(CASE WHEN loan_amnt BETWEEN \"10001\" AND \"12500\" then 1 ELSE 0 END) AS SIZE2,\n",
    "                                        SUM(CASE WHEN loan_amnt BETWEEN \"12501\" AND \"15000\" then 1 ELSE 0 END) AS SIZE2,\n",
    "                                        SUM(CASE WHEN loan_amnt BETWEEN \"15001\" AND \"17500\" then 1 ELSE 0 END) AS SIZE2,\n",
    "                                        SUM(CASE WHEN loan_amnt BETWEEN \"17501\" AND \"20000\" then 1 ELSE 0 END) AS SIZE2,\n",
    "                                        SUM(CASE WHEN loan_amnt BETWEEN \"20001\" AND \"22500\" then 1 ELSE 0 END) AS SIZE2,\n",
    "                                        SUM(CASE WHEN loan_amnt BETWEEN \"22501\" AND \"25000\" then 1 ELSE 0 END) AS SIZE2,\n",
    "                                        SUM(CASE WHEN loan_amnt BETWEEN \"25001\" AND \"27500\" then 1 ELSE 0 END) AS SIZE2,\n",
    "                                        SUM(CASE WHEN loan_amnt BETWEEN \"27501\" AND \"30000\" then 1 ELSE 0 END) AS SIZE2,\n",
    "                                        SUM(CASE WHEN loan_amnt BETWEEN \"30001\" AND \"32500\" then 1 ELSE 0 END) AS SIZE2,\n",
    "                                        SUM(CASE WHEN loan_amnt > \"32501\" THEN 1 ELSE 0 END) AS SIZE1\n",
    "                                    FROM\n",
    "                                        loans_data\n",
    "                                    WHERE\n",
    "                                        loan_term = \"60\"\n",
    "                                        \"\"\").fetchall()\n",
    "loan_distribution_df = pd.DataFrame(data=loan_distribution, columns=['<=2500','2501-5000','5001-7500','7501-10000','10001-12500','12501-15000','15001-17500','17501-20000','20001-22500','22501-25000','25001-27500','27501-30000','30001-32500','>32501'])\n",
    "loan_distribution_df"
   ]
  },
  {
   "cell_type": "code",
   "execution_count": 47,
   "metadata": {},
   "outputs": [],
   "source": [
    "loan_distribution_df.to_csv('loan_distribution')"
   ]
  },
  {
   "cell_type": "markdown",
   "metadata": {},
   "source": [
    "### Outstanding loans over time"
   ]
  },
  {
   "cell_type": "code",
   "execution_count": null,
   "metadata": {
    "scrolled": true
   },
   "outputs": [],
   "source": [
    "outstanding_loans = engine.execute(\"\"\"SELECT \n",
    "                                        year, \n",
    "                                        quarter, \n",
    "                                        COUNT(id) \n",
    "                                    FROM \n",
    "                                        loans_data\n",
    "                                    WHERE \n",
    "                                        loan_status <> \"Fully paid\" \n",
    "                                    GROUP BY \n",
    "                                        1,2\n",
    "                                    ORDER BY\n",
    "                                        1\"\"\").fetchall()\n",
    "outstanding_loans_df = pd.DataFrame(data=outstanding_loans, columns=['year','quarter','loans'])\n",
    "outstanding_loans_df.to_csv('outstanding_loans')"
   ]
  },
  {
   "cell_type": "code",
   "execution_count": null,
   "metadata": {
    "scrolled": true
   },
   "outputs": [],
   "source": [
    "amnt_outstanding = engine.execute(\"\"\"\n",
    "                                    SELECT \n",
    "                                        year, \n",
    "                                        quarter, \n",
    "                                        SUM(loan_amnt) \n",
    "                                    FROM \n",
    "                                        loans_data\n",
    "                                    WHERE \n",
    "                                        loan_status <> \"Fully paid\" \n",
    "                                    GROUP BY \n",
    "                                        1,2\n",
    "                                    ORDER BY\n",
    "                                        1\"\"\").fetchall()\n",
    "amnt_outstanding_df = pd.DataFrame(data=amnt_outstanding, columns=['year','quarter','loans'])\n",
    "amnt_outstanding_df.to_csv('amnt_outstanding_loans')"
   ]
  },
  {
   "cell_type": "markdown",
   "metadata": {},
   "source": [
    "### Current status of the loans"
   ]
  },
  {
   "cell_type": "code",
   "execution_count": 17,
   "metadata": {},
   "outputs": [
    {
     "data": {
      "text/plain": [
       "Current                                                601779\n",
       "Fully Paid                                             207723\n",
       "Charged Off                                             45248\n",
       "Late (31-120 days)                                      11591\n",
       "Issued                                                   8460\n",
       "In Grace Period                                          6253\n",
       "Late (16-30 days)                                        2357\n",
       "Does not meet the credit policy. Status:Fully Paid       1988\n",
       "Default                                                  1219\n",
       "Does not meet the credit policy. Status:Charged Off       761\n",
       "Name: loan_status, dtype: int64"
      ]
     },
     "execution_count": 17,
     "metadata": {},
     "output_type": "execute_result"
    }
   ],
   "source": [
    "loans.loan_status.value_counts()"
   ]
  },
  {
   "cell_type": "markdown",
   "metadata": {},
   "source": [
    "### Grade classifications of the loans"
   ]
  },
  {
   "cell_type": "code",
   "execution_count": null,
   "metadata": {},
   "outputs": [],
   "source": [
    "# Loans per grade\n",
    "loans_grade = loans.grade.value_counts()\n",
    "loans_grade.to_csv('loans_grade')"
   ]
  },
  {
   "cell_type": "code",
   "execution_count": null,
   "metadata": {},
   "outputs": [],
   "source": [
    "loans_grade"
   ]
  },
  {
   "cell_type": "code",
   "execution_count": null,
   "metadata": {},
   "outputs": [],
   "source": [
    "loans.groupby(['grade','sub_grade'])['loan_amnt'].sum()"
   ]
  },
  {
   "cell_type": "code",
   "execution_count": null,
   "metadata": {},
   "outputs": [],
   "source": [
    "# Amount borrowed per grade \n",
    "amnt_per_grade = engine.execute(\"\"\"SELECT \n",
    "                                        grade, \n",
    "                                        SUM(loan_amnt) \n",
    "                                    FROM \n",
    "                                        loans_data \n",
    "                                    GROUP BY \n",
    "                                        1\"\"\").fetchall()\n",
    "amnt_per_grade"
   ]
  },
  {
   "cell_type": "code",
   "execution_count": null,
   "metadata": {
    "scrolled": true
   },
   "outputs": [],
   "source": [
    "# Loans per sub_grade\n",
    "loans.sub_grade.value_counts()"
   ]
  },
  {
   "cell_type": "code",
   "execution_count": null,
   "metadata": {
    "scrolled": true
   },
   "outputs": [],
   "source": [
    "# Amount borrowed per sub_grade \n",
    "amnt_per_sub_grade = engine.execute(\"\"\"\"SELECT \n",
    "                                            sub_grade, \n",
    "                                            SUM(loan_amnt) \n",
    "                                        FROM \n",
    "                                            loans_data \n",
    "                                        GROUP BY \n",
    "                                            1\"\"\").fetchall()\n",
    "amnt_per_sub_grade_df = pd.DataFrame(data=amnt_per_sub_grade, columns=['sub_grade','loan_amount'])\n",
    "amnt_per_sub_grade_df.to_csv('amnt_per_sub_grade')"
   ]
  },
  {
   "cell_type": "markdown",
   "metadata": {},
   "source": [
    "### Loan Purposes"
   ]
  },
  {
   "cell_type": "code",
   "execution_count": null,
   "metadata": {},
   "outputs": [],
   "source": [
    "loans.purpose.value_counts()"
   ]
  },
  {
   "cell_type": "code",
   "execution_count": null,
   "metadata": {},
   "outputs": [],
   "source": [
    "amnt_loans_purpose = engine.execute(\"\"\"SELECT \n",
    "                                            purpose, \n",
    "                                            SUM(loan_amnt) \n",
    "                                        FROM \n",
    "                                            loans_data \n",
    "                                        GROUP BY \n",
    "                                            1 \n",
    "                                        ORDER BY \n",
    "                                            2 DESC\"\"\").fetchall()\n",
    "amnt_loans_purpose_df = pd.DataFrame(data=amount_loans_purpose, columns=['purpose','loan_amount'])\n",
    "amnt_loans_purpose_df.to_csv('amnt_loans_purpose')"
   ]
  },
  {
   "cell_type": "markdown",
   "metadata": {},
   "source": [
    "### Distribution of loans per state (Volume and Value)"
   ]
  },
  {
   "cell_type": "code",
   "execution_count": null,
   "metadata": {},
   "outputs": [],
   "source": [
    "loan_state_distribution = engine.execute(\"\"\"SELECT \n",
    "                                                addr_state, \n",
    "                                                SUM(loan_amnt) AS value, \n",
    "                                                COUNT(addr_state) AS volume \n",
    "                                            FROM \n",
    "                                                loans_data \n",
    "                                            GROUP BY \n",
    "                                                1\"\"\").fetchall()\n",
    "loan_state_distribution_df = pd.DataFrame(data=loan_state_distribution, columns=['addr_state','value', 'volume'])"
   ]
  },
  {
   "cell_type": "code",
   "execution_count": null,
   "metadata": {
    "scrolled": true
   },
   "outputs": [],
   "source": [
    "loan_state_distribution_df.to_csv('loan_state_distribution')"
   ]
  },
  {
   "cell_type": "markdown",
   "metadata": {},
   "source": [
    "### Range of Interest Rates per Grade"
   ]
  },
  {
   "cell_type": "code",
   "execution_count": null,
   "metadata": {
    "scrolled": true
   },
   "outputs": [],
   "source": [
    "interest_per_grade = engine.execute(\"\"\"SELECT \n",
    "                                            grade, \n",
    "                                            int_rate AS interest \n",
    "                                        FROM \n",
    "                                            loans_data \n",
    "                                        GROUP BY \n",
    "                                            1,2\"\"\").fetchall()\n",
    "interest_per_grade"
   ]
  },
  {
   "cell_type": "code",
   "execution_count": null,
   "metadata": {},
   "outputs": [],
   "source": [
    "interest_per_grade_df = pd.DataFrame(data=interest_per_grade, columns=['grade','sub_grade','loans','interest'])\n",
    "interest_per_grade_df.to_csv('interests_per_sub_grade')"
   ]
  },
  {
   "cell_type": "code",
   "execution_count": null,
   "metadata": {},
   "outputs": [],
   "source": [
    "# Calculating interest per grade over time\n",
    "interest_over_time = engine.execute(\"\"\"\n",
    "                                        SELECT\n",
    "                                            year,\n",
    "                                            month,\n",
    "                                            month_num,\n",
    "                                            ROUND(AVG(int_rate),2)\n",
    "                                        FROM \n",
    "                                            loans_data\n",
    "                                        WHERE\n",
    "                                            grade = \"G\"\n",
    "                                        GROUP BY\n",
    "                                            1,2\n",
    "                                        ORDER BY\n",
    "                                            1,3,4\"\"\").fetchall()"
   ]
  },
  {
   "cell_type": "code",
   "execution_count": null,
   "metadata": {},
   "outputs": [],
   "source": [
    "interest_over_time_df = pd.DataFrame(data=interest_over_time, columns=['year','month','month_num','int_rate'])\n",
    "interest_over_time_df.to_csv('interst_rate_grade')"
   ]
  },
  {
   "cell_type": "markdown",
   "metadata": {},
   "source": [
    "# Trends"
   ]
  },
  {
   "cell_type": "code",
   "execution_count": null,
   "metadata": {},
   "outputs": [],
   "source": [
    "amount_loans = engine.execute(\"\"\"\n",
    "                                SELECT \n",
    "                                    year, \n",
    "                                    month, \n",
    "                                    month_num, \n",
    "                                    COUNT(id) \n",
    "                                FROM \n",
    "                                    loans_data\n",
    "                                GROUP BY \n",
    "                                    1,2 \n",
    "                                ORDER BY \n",
    "                                    1,3 DESC\"\"\").fetchall()"
   ]
  },
  {
   "cell_type": "code",
   "execution_count": null,
   "metadata": {},
   "outputs": [],
   "source": [
    "amount_loans_df = pd.DataFrame(data=amount_loans, columns=['year','month','month_num','loans'])\n",
    "amount_loans_df.to_csv('amount_loans')"
   ]
  },
  {
   "cell_type": "markdown",
   "metadata": {},
   "source": [
    "### Loan Performance"
   ]
  },
  {
   "cell_type": "code",
   "execution_count": 16,
   "metadata": {},
   "outputs": [
    {
     "data": {
      "text/plain": [
       "[(u'A', 63371052.95),\n",
       " (u'B', 103962094.87),\n",
       " (u'C', 103738680.15),\n",
       " (u'D', 63571180.63),\n",
       " (u'E', 36412625.42),\n",
       " (u'F', 13036069.86),\n",
       " (u'G', 3441903.88)]"
      ]
     },
     "execution_count": 16,
     "metadata": {},
     "output_type": "execute_result"
    }
   ],
   "source": [
    "performance = engine.execute(\"\"\"\n",
    "                                SELECT\n",
    "                                    grade,\n",
    "                                    ROUND(SUM(installment),2) as Issued\n",
    "                                FROM\n",
    "                                    loans_data\n",
    "                                GROUP BY\n",
    "                                    1\"\"\").fetchall()\n",
    "performance"
   ]
  },
  {
   "cell_type": "markdown",
   "metadata": {},
   "source": [
    "### Growth"
   ]
  },
  {
   "cell_type": "code",
   "execution_count": null,
   "metadata": {},
   "outputs": [],
   "source": [
    "growth = engine.execute(\"\"\"\n",
    "                        SELECT\n",
    "                            year,\n",
    "                            quarter,\n",
    "                            COUNT(*),\n",
    "                            SUM(loan_amnt)\n",
    "                        FROM\n",
    "                            loans_data\n",
    "                        GROUP BY 1,2\"\"\").fetchall()\n",
    "growth_df = pd.DataFrame(data=growth, columns=['year','quarter','loans','amount'])\n",
    "growth_df.to_csv('growth')"
   ]
  },
  {
   "cell_type": "markdown",
   "metadata": {},
   "source": [
    "### Profitability"
   ]
  },
  {
   "cell_type": "code",
   "execution_count": null,
   "metadata": {},
   "outputs": [],
   "source": [
    "# Assumption: We include the loans that \"Does not meet the credit policy. Status:Fully Paid\" as fully paid \n",
    "loan_profit = engine.execute(\"\"\"\n",
    "                SELECT\n",
    "                     year,\n",
    "                    month,\n",
    "                    month_num,\n",
    "                    ROUND(SUM(loan_amnt),2) AS amnt_borrowed,\n",
    "                    ROUND(SUM(loan_gmv),2) AS return\n",
    "                FROM\n",
    "                    loans_data\n",
    "                GROUP BY\n",
    "                 1,2\n",
    "                ORDER BY\n",
    "                 1,3   \"\"\").fetchall()\n",
    "\n",
    "loan_profit_df = pd.DataFrame(data=loan_profit, columns=['year','month','month_num','amnt_borrowed','return'])\n",
    "loan_profit_df.to_csv('loan_profit')"
   ]
  },
  {
   "cell_type": "code",
   "execution_count": null,
   "metadata": {
    "scrolled": true
   },
   "outputs": [],
   "source": [
    "loan_profit_df"
   ]
  },
  {
   "cell_type": "markdown",
   "metadata": {},
   "source": [
    "### Active loans (Value & Volume)"
   ]
  },
  {
   "cell_type": "code",
   "execution_count": null,
   "metadata": {},
   "outputs": [],
   "source": [
    "active_loans = engine.execute(\"\"\"\n",
    "                                SELECT\n",
    "                                    year,\n",
    "                                    month,\n",
    "                                    month_num,\n",
    "                                    COUNT(*) AS loans,\n",
    "                                    SUM(loan_amnt)\n",
    "                                FROM\n",
    "                                    loans_data\n",
    "                                WHERE\n",
    "                                    loan_status <> \"Fully Paid\"\n",
    "                                GROUP BY\n",
    "                                    1,2\n",
    "                                ORDER BY\n",
    "                                    1,3\"\"\").fetchall()\n",
    "active_loans_df = pd.DataFrame(data=active_loans, columns=['year','month','month_num','volume','value'])\n",
    "active_loans_df.to_csv('active_loans')"
   ]
  },
  {
   "cell_type": "code",
   "execution_count": null,
   "metadata": {
    "scrolled": true
   },
   "outputs": [],
   "source": [
    "active_loans_df"
   ]
  },
  {
   "cell_type": "code",
   "execution_count": null,
   "metadata": {
    "scrolled": true
   },
   "outputs": [],
   "source": [
    "paid_loans = engine.execute(\"\"\"\n",
    "                                SELECT\n",
    "                                    year,\n",
    "                                    month,\n",
    "                                    month_num,\n",
    "                                    SUM(loan_amnt),\n",
    "                                    ROUND(SUM(loan_gmv),2)\n",
    "                                FROM\n",
    "                                    loans_data\n",
    "                                WHERE\n",
    "                                    loan_status = \"Fully Paid\"\n",
    "                                GROUP BY\n",
    "                                    1,2\n",
    "                                ORDER BY\n",
    "                                    1,3\"\"\").fetchall()\n",
    "paid_loans_df = pd.DataFrame(data=paid_loans, columns=['year','month','month_num','loan_amnt','loan_gmv'])\n",
    "paid_loans_df.to_csv('paid_loans_amnt')"
   ]
  },
  {
   "cell_type": "code",
   "execution_count": null,
   "metadata": {},
   "outputs": [],
   "source": [
    "loans.loan_status.value_counts()"
   ]
  },
  {
   "cell_type": "markdown",
   "metadata": {},
   "source": [
    "### Grade distribution per year"
   ]
  },
  {
   "cell_type": "code",
   "execution_count": null,
   "metadata": {},
   "outputs": [],
   "source": [
    "grade_distribution = engine.execute(\"\"\"\n",
    "                SELECT\n",
    "                    year,\n",
    "                    grade,\n",
    "                    COUNT(*) as default_loans\n",
    "                FROM\n",
    "                    loans_data\n",
    "                WHERE\n",
    "                    loan_term = \"36\"\n",
    "                GROUP BY\n",
    "                    1,2\"\"\").fetchall()\n",
    "grade_distribution_df = pd.DataFrame(data = grade_distribution, columns=['year','grade','loans'])\n",
    "grade_distribution_df.to_csv('grade_distribution')"
   ]
  },
  {
   "cell_type": "code",
   "execution_count": null,
   "metadata": {
    "scrolled": true
   },
   "outputs": [],
   "source": [
    "grade_distribution_df"
   ]
  },
  {
   "cell_type": "code",
   "execution_count": null,
   "metadata": {},
   "outputs": [],
   "source": [
    "loans.term.value_counts()"
   ]
  },
  {
   "cell_type": "markdown",
   "metadata": {},
   "source": [
    "### Default rate"
   ]
  },
  {
   "cell_type": "code",
   "execution_count": null,
   "metadata": {},
   "outputs": [],
   "source": [
    "default_rate = engine.execute(\"\"\"\n",
    "                SELECT\n",
    "                    year,\n",
    "                    month,\n",
    "                    month_num,\n",
    "                    SUM(CASE WHEN loan_status IN(\"Charged Off\",\"Default\",\"Does not meet the credit policy. Status:Charged Off \") THEN 1 ELSE 0 END) as default_loans,\n",
    "                    COUNT(*) as total_loans\n",
    "                FROM\n",
    "                    loans_data\n",
    "                GROUP BY\n",
    "                    1,2\n",
    "                ORDER BY\n",
    "                    1,3\"\"\").fetchall()\n",
    "default_rate_df = pd.DataFrame(data=default_rate, columns=['year','month','month_num','default_loans','total_loans'])\n",
    "default_rate_df.to_csv('default_rate')"
   ]
  },
  {
   "cell_type": "code",
   "execution_count": null,
   "metadata": {},
   "outputs": [],
   "source": [
    "default_rate_df"
   ]
  },
  {
   "cell_type": "code",
   "execution_count": null,
   "metadata": {},
   "outputs": [],
   "source": [
    "amnt_default_rate = engine.execute(\"\"\"\n",
    "                SELECT\n",
    "                    year,\n",
    "                    month,\n",
    "                    month_num,\n",
    "                    SUM(CASE WHEN loan_status IN(\"Charged Off\",\"Default\",\"Does not meet the credit policy. Status:Charged Off \") THEN 1 ELSE 0 END) as default_loans,\n",
    "                    ROUND(SUM(total_pymnt),2) as volume,\n",
    "                    SUM(loan_amnt)\n",
    "                FROM\n",
    "                    loans_data\n",
    "                WHERE\n",
    "                    loan_status IN(\"Charged Off\",\"Default\",\"Does not meet the credit policy. Status:Charged Off \") AND grade = \"A\"\n",
    "                GROUP BY\n",
    "                    1,2\n",
    "                ORDER BY\n",
    "                    1,3\"\"\").fetchall()\n",
    "amnt_default_rate_df = pd.DataFrame(data=amnt_default_rate, columns=['year','month','month_num','default_loans','paid_to_date','total_loans'])\n",
    "amnt_default_rate_df.to_csv('default_rate')"
   ]
  },
  {
   "cell_type": "code",
   "execution_count": null,
   "metadata": {
    "scrolled": true
   },
   "outputs": [],
   "source": [
    "amnt_default_rate_df"
   ]
  },
  {
   "cell_type": "code",
   "execution_count": null,
   "metadata": {
    "scrolled": true
   },
   "outputs": [],
   "source": [
    "grade_loans = engine.execute(\"\"\"\n",
    "                SELECT\n",
    "                    year,\n",
    "                    month,\n",
    "                    month_num,\n",
    "                    SUM(loan_amnt) AS value,\n",
    "                    ROUND(SUM(loan_gmv),2) AS gmv\n",
    "                FROM\n",
    "                    loans_data\n",
    "                WHERE\n",
    "                    grade = \"G\" and loan_status = \"Fully Paid\"\n",
    "                GROUP BY\n",
    "                    1,2\n",
    "                ORDER BY\n",
    "                    1,3\"\"\").fetchall()\n",
    "grade_loans_df = pd.DataFrame(data=grade_loans, columns=['year','month','month_num','value','gmv'])\n",
    "grade_loans_df.to_csv('grade_loans')"
   ]
  },
  {
   "cell_type": "code",
   "execution_count": null,
   "metadata": {},
   "outputs": [],
   "source": []
  }
 ],
 "metadata": {
  "kernelspec": {
   "display_name": "Python 2",
   "language": "python",
   "name": "python2"
  },
  "language_info": {
   "codemirror_mode": {
    "name": "ipython",
    "version": 2
   },
   "file_extension": ".py",
   "mimetype": "text/x-python",
   "name": "python",
   "nbconvert_exporter": "python",
   "pygments_lexer": "ipython2",
   "version": "2.7.14"
  }
 },
 "nbformat": 4,
 "nbformat_minor": 2
}
